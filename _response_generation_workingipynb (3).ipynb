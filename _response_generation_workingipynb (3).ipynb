{
  "nbformat": 4,
  "nbformat_minor": 0,
  "metadata": {
    "colab": {
      "provenance": []
    },
    "kernelspec": {
      "name": "python3",
      "display_name": "Python 3"
    },
    "language_info": {
      "name": "python"
    }
  },
  "cells": [
    {
      "cell_type": "code",
      "source": [
        "!pip install OpenAI"
      ],
      "metadata": {
        "colab": {
          "base_uri": "https://localhost:8080/"
        },
        "id": "Qq0HMd7Kgxg0",
        "outputId": "094eade3-2893-44b6-86a3-c02d5b8ff9d0"
      },
      "execution_count": null,
      "outputs": [
        {
          "output_type": "stream",
          "name": "stdout",
          "text": [
            "Collecting OpenAI\n",
            "  Downloading openai-1.20.0-py3-none-any.whl (292 kB)\n",
            "\u001b[2K     \u001b[90m━━━━━━━━━━━━━━━━━━━━━━━━━━━━━━━━━━━━━━━━\u001b[0m \u001b[32m292.8/292.8 kB\u001b[0m \u001b[31m2.8 MB/s\u001b[0m eta \u001b[36m0:00:00\u001b[0m\n",
            "\u001b[?25hRequirement already satisfied: anyio<5,>=3.5.0 in /usr/local/lib/python3.10/dist-packages (from OpenAI) (3.7.1)\n",
            "Requirement already satisfied: distro<2,>=1.7.0 in /usr/lib/python3/dist-packages (from OpenAI) (1.7.0)\n",
            "Collecting httpx<1,>=0.23.0 (from OpenAI)\n",
            "  Downloading httpx-0.27.0-py3-none-any.whl (75 kB)\n",
            "\u001b[2K     \u001b[90m━━━━━━━━━━━━━━━━━━━━━━━━━━━━━━━━━━━━━━━━\u001b[0m \u001b[32m75.6/75.6 kB\u001b[0m \u001b[31m3.9 MB/s\u001b[0m eta \u001b[36m0:00:00\u001b[0m\n",
            "\u001b[?25hRequirement already satisfied: pydantic<3,>=1.9.0 in /usr/local/lib/python3.10/dist-packages (from OpenAI) (2.6.4)\n",
            "Requirement already satisfied: sniffio in /usr/local/lib/python3.10/dist-packages (from OpenAI) (1.3.1)\n",
            "Requirement already satisfied: tqdm>4 in /usr/local/lib/python3.10/dist-packages (from OpenAI) (4.66.2)\n",
            "Requirement already satisfied: typing-extensions<5,>=4.7 in /usr/local/lib/python3.10/dist-packages (from OpenAI) (4.11.0)\n",
            "Requirement already satisfied: idna>=2.8 in /usr/local/lib/python3.10/dist-packages (from anyio<5,>=3.5.0->OpenAI) (3.6)\n",
            "Requirement already satisfied: exceptiongroup in /usr/local/lib/python3.10/dist-packages (from anyio<5,>=3.5.0->OpenAI) (1.2.0)\n",
            "Requirement already satisfied: certifi in /usr/local/lib/python3.10/dist-packages (from httpx<1,>=0.23.0->OpenAI) (2024.2.2)\n",
            "Collecting httpcore==1.* (from httpx<1,>=0.23.0->OpenAI)\n",
            "  Downloading httpcore-1.0.5-py3-none-any.whl (77 kB)\n",
            "\u001b[2K     \u001b[90m━━━━━━━━━━━━━━━━━━━━━━━━━━━━━━━━━━━━━━━━\u001b[0m \u001b[32m77.9/77.9 kB\u001b[0m \u001b[31m4.1 MB/s\u001b[0m eta \u001b[36m0:00:00\u001b[0m\n",
            "\u001b[?25hCollecting h11<0.15,>=0.13 (from httpcore==1.*->httpx<1,>=0.23.0->OpenAI)\n",
            "  Downloading h11-0.14.0-py3-none-any.whl (58 kB)\n",
            "\u001b[2K     \u001b[90m━━━━━━━━━━━━━━━━━━━━━━━━━━━━━━━━━━━━━━━━\u001b[0m \u001b[32m58.3/58.3 kB\u001b[0m \u001b[31m5.5 MB/s\u001b[0m eta \u001b[36m0:00:00\u001b[0m\n",
            "\u001b[?25hRequirement already satisfied: annotated-types>=0.4.0 in /usr/local/lib/python3.10/dist-packages (from pydantic<3,>=1.9.0->OpenAI) (0.6.0)\n",
            "Requirement already satisfied: pydantic-core==2.16.3 in /usr/local/lib/python3.10/dist-packages (from pydantic<3,>=1.9.0->OpenAI) (2.16.3)\n",
            "Installing collected packages: h11, httpcore, httpx, OpenAI\n",
            "Successfully installed OpenAI-1.20.0 h11-0.14.0 httpcore-1.0.5 httpx-0.27.0\n"
          ]
        }
      ]
    },
    {
      "cell_type": "code",
      "execution_count": null,
      "metadata": {
        "id": "nEdUO2IfgWDB"
      },
      "outputs": [],
      "source": [
        "import csv\n",
        "import pandas as pd\n",
        "from openai import OpenAI\n",
        "\n",
        "BASE_URL = \"https://api.endpoints.anyscale.com/v1\"\n",
        "BASE_MODEL = \"mistralai/Mixtral-8x7B-Instruct-v0.1\"\n",
        "BASE_CLIENT = OpenAI(base_url=BASE_URL, api_key=\"esecret_aamn77qr2rwemdku71nvell6ju\")\n",
        "\n",
        "def process_call(prompt, max_tokens):\n",
        "    completion = BASE_CLIENT.completions.create(\n",
        "        model=BASE_MODEL,\n",
        "        prompt=prompt,\n",
        "        max_tokens=max_tokens,\n",
        "        temperature=0,\n",
        "    )\n",
        "    result = completion.choices[0].text.strip()\n",
        "    return result\n",
        "\n",
        "# Read the input CSV file\n",
        "df = pd.read_csv('/content/formatted_filtered_all(1-4))_diseases _dataset.csv')\n",
        "\n",
        "# Modify this line to change the number of rows to process\n",
        "n = 1287  # Change this to the number of rows you want to process\n",
        "df = df.head(n)\n",
        "\n",
        "csv_file = 'outputall.csv'\n",
        "\n",
        "# Open the CSV file for writing\n",
        "with open(csv_file, mode='w', newline='') as file:\n",
        "    writer = csv.writer(file)\n",
        "\n",
        "    for index, row in df.iterrows():\n",
        "        prompt = ''' From the given text answer this 5 questions.\n",
        "1.What is the name of the DRUG\n",
        "2.what was the Adversary drug reaction(ADR)?\n",
        "3.What are the diseases cured by the drug?\n",
        "4.What is the dosage?\n",
        "5.What are the Symptoms experienced by the patient?\n",
        "example:This sentence includes the specific drug name (metoprolol), the associated adverse drug reaction (bronchospasm), the name of the disease treated by the drug (hypertension), the dosage of the drug (200mg per day), and common symptoms of the disease (wheezing, coughing, and shortness of breath). It also adheres to a medical context and is unique.\n",
        "1.metoprolol\n",
        "2.bronchospasm\n",
        "3.hypertension\n",
        "4.200mg per day\n",
        "5.[wheezing, coughing,shortness of breath]\n",
        "\n",
        "        '''+ str(row[0])   # Concatenate the first two columns and use as the prompt\n",
        "        output_text = process_call(prompt, max_tokens=100)  # Adjust max_tokens if needed\n",
        "        answers = output_text.split('\\n')  # Split the output text into separate answers\n",
        "        for answer in answers:\n",
        "            writer.writerow([answer])  # Write each answer to a new row\n",
        "\n",
        "print(f\"Output saved to {csv_file}\")\n"
      ]
    },
    {
      "cell_type": "code",
      "source": [],
      "metadata": {
        "id": "uc1Ody4ed2Op"
      },
      "execution_count": null,
      "outputs": []
    }
  ]
}